{
 "cells": [
  {
   "cell_type": "code",
   "execution_count": 17,
   "metadata": {},
   "outputs": [],
   "source": [
    "import pandas as pd\n",
    "import numpy as np\n",
    "import seaborn as sns\n",
    "from matplotlib import pyplot as plt"
   ]
  },
  {
   "cell_type": "code",
   "execution_count": 18,
   "metadata": {},
   "outputs": [
    {
     "data": {
      "text/html": [
       "<div>\n",
       "<style scoped>\n",
       "    .dataframe tbody tr th:only-of-type {\n",
       "        vertical-align: middle;\n",
       "    }\n",
       "\n",
       "    .dataframe tbody tr th {\n",
       "        vertical-align: top;\n",
       "    }\n",
       "\n",
       "    .dataframe thead th {\n",
       "        text-align: right;\n",
       "    }\n",
       "</style>\n",
       "<table border=\"1\" class=\"dataframe\">\n",
       "  <thead>\n",
       "    <tr style=\"text-align: right;\">\n",
       "      <th></th>\n",
       "      <th>Show</th>\n",
       "      <th>Season</th>\n",
       "      <th>Rating</th>\n",
       "    </tr>\n",
       "  </thead>\n",
       "  <tbody>\n",
       "    <tr>\n",
       "      <th>0</th>\n",
       "      <td>Friends</td>\n",
       "      <td>1</td>\n",
       "      <td>8.3</td>\n",
       "    </tr>\n",
       "    <tr>\n",
       "      <th>1</th>\n",
       "      <td>Friends</td>\n",
       "      <td>1</td>\n",
       "      <td>8.0</td>\n",
       "    </tr>\n",
       "    <tr>\n",
       "      <th>2</th>\n",
       "      <td>Friends</td>\n",
       "      <td>1</td>\n",
       "      <td>8.2</td>\n",
       "    </tr>\n",
       "    <tr>\n",
       "      <th>3</th>\n",
       "      <td>Friends</td>\n",
       "      <td>1</td>\n",
       "      <td>8.1</td>\n",
       "    </tr>\n",
       "    <tr>\n",
       "      <th>4</th>\n",
       "      <td>Friends</td>\n",
       "      <td>1</td>\n",
       "      <td>8.5</td>\n",
       "    </tr>\n",
       "    <tr>\n",
       "      <th>...</th>\n",
       "      <td>...</td>\n",
       "      <td>...</td>\n",
       "      <td>...</td>\n",
       "    </tr>\n",
       "    <tr>\n",
       "      <th>5038</th>\n",
       "      <td>That '70s Show</td>\n",
       "      <td>8</td>\n",
       "      <td>6.6</td>\n",
       "    </tr>\n",
       "    <tr>\n",
       "      <th>5039</th>\n",
       "      <td>That '70s Show</td>\n",
       "      <td>8</td>\n",
       "      <td>6.5</td>\n",
       "    </tr>\n",
       "    <tr>\n",
       "      <th>5040</th>\n",
       "      <td>That '70s Show</td>\n",
       "      <td>8</td>\n",
       "      <td>6.5</td>\n",
       "    </tr>\n",
       "    <tr>\n",
       "      <th>5041</th>\n",
       "      <td>That '70s Show</td>\n",
       "      <td>8</td>\n",
       "      <td>7.4</td>\n",
       "    </tr>\n",
       "    <tr>\n",
       "      <th>5042</th>\n",
       "      <td>That '70s Show</td>\n",
       "      <td>8</td>\n",
       "      <td>8.9</td>\n",
       "    </tr>\n",
       "  </tbody>\n",
       "</table>\n",
       "<p>5043 rows × 3 columns</p>\n",
       "</div>"
      ],
      "text/plain": [
       "                Show  Season  Rating\n",
       "0            Friends       1     8.3\n",
       "1            Friends       1     8.0\n",
       "2            Friends       1     8.2\n",
       "3            Friends       1     8.1\n",
       "4            Friends       1     8.5\n",
       "...              ...     ...     ...\n",
       "5038  That '70s Show       8     6.6\n",
       "5039  That '70s Show       8     6.5\n",
       "5040  That '70s Show       8     6.5\n",
       "5041  That '70s Show       8     7.4\n",
       "5042  That '70s Show       8     8.9\n",
       "\n",
       "[5043 rows x 3 columns]"
      ]
     },
     "execution_count": 18,
     "metadata": {},
     "output_type": "execute_result"
    }
   ],
   "source": [
    "data = pd.read_csv(\"average season rating contour data.csv\")\n",
    "data = data[[\"Show\", \"Season\", \"Rating\"]]\n",
    "data"
   ]
  },
  {
   "cell_type": "code",
   "execution_count": 19,
   "metadata": {},
   "outputs": [
    {
     "data": {
      "text/plain": [
       "[8.013746630727763,\n",
       " 8.12638888888889,\n",
       " 8.115937940761636,\n",
       " 8.025403225806452,\n",
       " 8.082477341389728,\n",
       " 8.062521294718909,\n",
       " 8.072826086956521,\n",
       " 7.875792507204612]"
      ]
     },
     "execution_count": 19,
     "metadata": {},
     "output_type": "execute_result"
    }
   ],
   "source": [
    "average_season_score = []\n",
    "\n",
    "for x in range(1,9):\n",
    "    season = data[data[\"Season\"] == x]\n",
    "    average_season_score.append(season[\"Rating\"].mean())\n",
    "    \n",
    "average_season_score"
   ]
  },
  {
   "cell_type": "code",
   "execution_count": 20,
   "metadata": {},
   "outputs": [
    {
     "data": {
      "text/plain": [
       "[7.9639999999999995,\n",
       " 7.846153846153846,\n",
       " 7.848000000000001,\n",
       " 7.692592592592593,\n",
       " 7.667999999999999,\n",
       " 7.528,\n",
       " 7.3839999999999995,\n",
       " 6.740909090909091]"
      ]
     },
     "execution_count": 20,
     "metadata": {},
     "output_type": "execute_result"
    }
   ],
   "source": [
    "that_show_season_score = []\n",
    "data = data[data[\"Show\"] == \"That '70s Show\"]\n",
    "data\n",
    "for x in range(1,9):\n",
    "    season = data[data[\"Season\"] == x]\n",
    "    that_show_season_score.append(season[\"Rating\"].mean())\n",
    "    \n",
    "that_show_season_score"
   ]
  },
  {
   "cell_type": "code",
   "execution_count": 21,
   "metadata": {},
   "outputs": [
    {
     "data": {
      "text/html": [
       "<div>\n",
       "<style scoped>\n",
       "    .dataframe tbody tr th:only-of-type {\n",
       "        vertical-align: middle;\n",
       "    }\n",
       "\n",
       "    .dataframe tbody tr th {\n",
       "        vertical-align: top;\n",
       "    }\n",
       "\n",
       "    .dataframe thead th {\n",
       "        text-align: right;\n",
       "    }\n",
       "</style>\n",
       "<table border=\"1\" class=\"dataframe\">\n",
       "  <thead>\n",
       "    <tr style=\"text-align: right;\">\n",
       "      <th></th>\n",
       "      <th>Season</th>\n",
       "      <th>Rating</th>\n",
       "      <th>'70s Show Rating</th>\n",
       "    </tr>\n",
       "  </thead>\n",
       "  <tbody>\n",
       "    <tr>\n",
       "      <th>0</th>\n",
       "      <td>1</td>\n",
       "      <td>8.013747</td>\n",
       "      <td>7.964000</td>\n",
       "    </tr>\n",
       "    <tr>\n",
       "      <th>1</th>\n",
       "      <td>2</td>\n",
       "      <td>8.126389</td>\n",
       "      <td>7.846154</td>\n",
       "    </tr>\n",
       "    <tr>\n",
       "      <th>2</th>\n",
       "      <td>3</td>\n",
       "      <td>8.115938</td>\n",
       "      <td>7.848000</td>\n",
       "    </tr>\n",
       "    <tr>\n",
       "      <th>3</th>\n",
       "      <td>4</td>\n",
       "      <td>8.025403</td>\n",
       "      <td>7.692593</td>\n",
       "    </tr>\n",
       "    <tr>\n",
       "      <th>4</th>\n",
       "      <td>5</td>\n",
       "      <td>8.082477</td>\n",
       "      <td>7.668000</td>\n",
       "    </tr>\n",
       "    <tr>\n",
       "      <th>5</th>\n",
       "      <td>6</td>\n",
       "      <td>8.062521</td>\n",
       "      <td>7.528000</td>\n",
       "    </tr>\n",
       "    <tr>\n",
       "      <th>6</th>\n",
       "      <td>7</td>\n",
       "      <td>8.072826</td>\n",
       "      <td>7.384000</td>\n",
       "    </tr>\n",
       "    <tr>\n",
       "      <th>7</th>\n",
       "      <td>8</td>\n",
       "      <td>7.875793</td>\n",
       "      <td>6.740909</td>\n",
       "    </tr>\n",
       "  </tbody>\n",
       "</table>\n",
       "</div>"
      ],
      "text/plain": [
       "   Season    Rating  '70s Show Rating\n",
       "0       1  8.013747          7.964000\n",
       "1       2  8.126389          7.846154\n",
       "2       3  8.115938          7.848000\n",
       "3       4  8.025403          7.692593\n",
       "4       5  8.082477          7.668000\n",
       "5       6  8.062521          7.528000\n",
       "6       7  8.072826          7.384000\n",
       "7       8  7.875793          6.740909"
      ]
     },
     "execution_count": 21,
     "metadata": {},
     "output_type": "execute_result"
    }
   ],
   "source": [
    "season_scores_frame = pd.DataFrame()\n",
    "season_scores_frame[\"Season\"] = [1,2,3,4,5,6,7,8]\n",
    "season_scores_frame[\"Rating\"] = average_season_score\n",
    "season_scores_frame[\"'70s Show Rating\"] = that_show_season_score\n",
    "season_scores_frame"
   ]
  },
  {
   "cell_type": "code",
   "execution_count": 25,
   "metadata": {},
   "outputs": [
    {
     "data": {
      "image/png": "[encoded data removed]",
      "text/plain": [
       "<Figure size 1440x720 with 1 Axes>"
      ]
     },
     "metadata": {},
     "output_type": "display_data"
    }
   ],
   "source": [
    "dims = (20,10)\n",
    "fig, ax = plt.subplots(figsize = dims)\n",
    "plt.ylim(5, 10)\n",
    "font_size = 14\n",
    "plt.title(\"Season Averages Of Shows\", size = 18)\n",
    "\n",
    "sns.lineplot(data=season_scores_frame, x = \"Season\", y = \"Rating\", label = \"Sitcom Average\")\n",
    "sns.lineplot(data=season_scores_frame, x = \"Season\", y = \"'70s Show Rating\", label = \"That '70s Show'\")\n",
    "\n",
    "plt.xticks(size = font_size)\n",
    "plt.yticks(size = font_size)\n",
    "\n",
    "plt.xlabel(\"Season\", size = font_size)\n",
    "plt.ylabel(\"Average Score\", size = font_size)\n",
    "\n",
    "sns.despine(left = True, bottom = True)\n",
    "\n",
    "sns.set_style(\"whitegrid\")\n",
    "\n",
    "fig.savefig(\"'70s Vs Average'.jpg\")"
   ]
  },
  {
   "cell_type": "code",
   "execution_count": null,
   "metadata": {},
   "outputs": [],
   "source": []
  }
 ],
 "metadata": {
  "kernelspec": {
   "display_name": "Python 3",
   "language": "python",
   "name": "python3"
  },
  "language_info": {
   "codemirror_mode": {
    "name": "ipython",
    "version": 3
   },
   "file_extension": ".py",
   "mimetype": "text/x-python",
   "name": "python",
   "nbconvert_exporter": "python",
   "pygments_lexer": "ipython3",
   "version": "3.8.3"
  }
 },
 "nbformat": 4,
 "nbformat_minor": 4
}
